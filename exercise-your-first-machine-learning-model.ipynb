{
 "cells": [
  {
   "cell_type": "markdown",
   "id": "5a770220",
   "metadata": {
    "papermill": {
     "duration": 0.010017,
     "end_time": "2024-05-04T14:53:38.753251",
     "exception": false,
     "start_time": "2024-05-04T14:53:38.743234",
     "status": "completed"
    },
    "tags": []
   },
   "source": [
    "**This notebook is an exercise in the [Introduction to Machine Learning](https://www.kaggle.com/learn/intro-to-machine-learning) course.  You can reference the tutorial at [this link](https://www.kaggle.com/dansbecker/your-first-machine-learning-model).**\n",
    "\n",
    "---\n"
   ]
  },
  {
   "cell_type": "markdown",
   "id": "17ac1872",
   "metadata": {
    "papermill": {
     "duration": 0.007002,
     "end_time": "2024-05-04T14:53:38.768345",
     "exception": false,
     "start_time": "2024-05-04T14:53:38.761343",
     "status": "completed"
    },
    "tags": []
   },
   "source": [
    "## Recap\n",
    "So far, you have loaded your data and reviewed it with the following code. Run this cell to set up your coding environment where the previous step left off."
   ]
  },
  {
   "cell_type": "code",
   "execution_count": 1,
   "id": "6bc31165",
   "metadata": {
    "execution": {
     "iopub.execute_input": "2024-05-04T14:53:38.784173Z",
     "iopub.status.busy": "2024-05-04T14:53:38.783460Z",
     "iopub.status.idle": "2024-05-04T14:53:41.198745Z",
     "shell.execute_reply": "2024-05-04T14:53:41.197488Z"
    },
    "papermill": {
     "duration": 2.426515,
     "end_time": "2024-05-04T14:53:41.201727",
     "exception": false,
     "start_time": "2024-05-04T14:53:38.775212",
     "status": "completed"
    },
    "tags": []
   },
   "outputs": [
    {
     "name": "stdout",
     "output_type": "stream",
     "text": [
      "Setup Complete\n"
     ]
    }
   ],
   "source": [
    "# Code you have previously used to load data\n",
    "import pandas as pd\n",
    "\n",
    "# Path of the file to read\n",
    "iowa_file_path = '../input/home-data-for-ml-course/train.csv'\n",
    "\n",
    "home_data = pd.read_csv(iowa_file_path)\n",
    "\n",
    "# Set up code checking\n",
    "from learntools.core import binder\n",
    "binder.bind(globals())\n",
    "from learntools.machine_learning.ex3 import *\n",
    "\n",
    "print(\"Setup Complete\")"
   ]
  },
  {
   "cell_type": "markdown",
   "id": "9821508a",
   "metadata": {
    "papermill": {
     "duration": 0.006812,
     "end_time": "2024-05-04T14:53:41.215642",
     "exception": false,
     "start_time": "2024-05-04T14:53:41.208830",
     "status": "completed"
    },
    "tags": []
   },
   "source": [
    "# Exercises\n",
    "\n",
    "## Step 1: Specify Prediction Target\n",
    "Select the target variable, which corresponds to the sales price. Save this to a new variable called `y`. You'll need to print a list of the columns to find the name of the column you need.\n"
   ]
  },
  {
   "cell_type": "code",
   "execution_count": 2,
   "id": "5d61e890",
   "metadata": {
    "execution": {
     "iopub.execute_input": "2024-05-04T14:53:41.231415Z",
     "iopub.status.busy": "2024-05-04T14:53:41.231020Z",
     "iopub.status.idle": "2024-05-04T14:53:41.241175Z",
     "shell.execute_reply": "2024-05-04T14:53:41.239973Z"
    },
    "papermill": {
     "duration": 0.02079,
     "end_time": "2024-05-04T14:53:41.243360",
     "exception": false,
     "start_time": "2024-05-04T14:53:41.222570",
     "status": "completed"
    },
    "tags": []
   },
   "outputs": [
    {
     "data": {
      "text/plain": [
       "Index(['Id', 'MSSubClass', 'MSZoning', 'LotFrontage', 'LotArea', 'Street',\n",
       "       'Alley', 'LotShape', 'LandContour', 'Utilities', 'LotConfig',\n",
       "       'LandSlope', 'Neighborhood', 'Condition1', 'Condition2', 'BldgType',\n",
       "       'HouseStyle', 'OverallQual', 'OverallCond', 'YearBuilt', 'YearRemodAdd',\n",
       "       'RoofStyle', 'RoofMatl', 'Exterior1st', 'Exterior2nd', 'MasVnrType',\n",
       "       'MasVnrArea', 'ExterQual', 'ExterCond', 'Foundation', 'BsmtQual',\n",
       "       'BsmtCond', 'BsmtExposure', 'BsmtFinType1', 'BsmtFinSF1',\n",
       "       'BsmtFinType2', 'BsmtFinSF2', 'BsmtUnfSF', 'TotalBsmtSF', 'Heating',\n",
       "       'HeatingQC', 'CentralAir', 'Electrical', '1stFlrSF', '2ndFlrSF',\n",
       "       'LowQualFinSF', 'GrLivArea', 'BsmtFullBath', 'BsmtHalfBath', 'FullBath',\n",
       "       'HalfBath', 'BedroomAbvGr', 'KitchenAbvGr', 'KitchenQual',\n",
       "       'TotRmsAbvGrd', 'Functional', 'Fireplaces', 'FireplaceQu', 'GarageType',\n",
       "       'GarageYrBlt', 'GarageFinish', 'GarageCars', 'GarageArea', 'GarageQual',\n",
       "       'GarageCond', 'PavedDrive', 'WoodDeckSF', 'OpenPorchSF',\n",
       "       'EnclosedPorch', '3SsnPorch', 'ScreenPorch', 'PoolArea', 'PoolQC',\n",
       "       'Fence', 'MiscFeature', 'MiscVal', 'MoSold', 'YrSold', 'SaleType',\n",
       "       'SaleCondition', 'SalePrice'],\n",
       "      dtype='object')"
      ]
     },
     "execution_count": 2,
     "metadata": {},
     "output_type": "execute_result"
    }
   ],
   "source": [
    "# print the list of columns in the dataset to find the name of the prediction target\n",
    "home_data.columns"
   ]
  },
  {
   "cell_type": "code",
   "execution_count": 3,
   "id": "4b7391e3",
   "metadata": {
    "execution": {
     "iopub.execute_input": "2024-05-04T14:53:41.260018Z",
     "iopub.status.busy": "2024-05-04T14:53:41.259303Z",
     "iopub.status.idle": "2024-05-04T14:53:41.275633Z",
     "shell.execute_reply": "2024-05-04T14:53:41.274514Z"
    },
    "papermill": {
     "duration": 0.027648,
     "end_time": "2024-05-04T14:53:41.278185",
     "exception": false,
     "start_time": "2024-05-04T14:53:41.250537",
     "status": "completed"
    },
    "tags": []
   },
   "outputs": [
    {
     "data": {
      "application/javascript": [
       "parent.postMessage({\"jupyterEvent\": \"custom.exercise_interaction\", \"data\": {\"outcomeType\": 1, \"valueTowardsCompletion\": 0.25, \"interactionType\": 1, \"questionType\": 2, \"questionId\": \"1_SetTarget\", \"learnToolsVersion\": \"0.3.4\", \"failureMessage\": \"\", \"exceptionClass\": \"\", \"trace\": \"\"}}, \"*\")"
      ],
      "text/plain": [
       "<IPython.core.display.Javascript object>"
      ]
     },
     "metadata": {},
     "output_type": "display_data"
    },
    {
     "data": {
      "text/markdown": [
       "<span style=\"color:#33cc33\">Correct</span>"
      ],
      "text/plain": [
       "Correct"
      ]
     },
     "metadata": {},
     "output_type": "display_data"
    }
   ],
   "source": [
    "y = home_data.SalePrice\n",
    "\n",
    "# Check your answer\n",
    "step_1.check()"
   ]
  },
  {
   "cell_type": "code",
   "execution_count": 4,
   "id": "72004e44",
   "metadata": {
    "collapsed": true,
    "execution": {
     "iopub.execute_input": "2024-05-04T14:53:41.295566Z",
     "iopub.status.busy": "2024-05-04T14:53:41.294768Z",
     "iopub.status.idle": "2024-05-04T14:53:41.299477Z",
     "shell.execute_reply": "2024-05-04T14:53:41.298586Z"
    },
    "jupyter": {
     "outputs_hidden": true
    },
    "papermill": {
     "duration": 0.016228,
     "end_time": "2024-05-04T14:53:41.301850",
     "exception": false,
     "start_time": "2024-05-04T14:53:41.285622",
     "status": "completed"
    },
    "tags": []
   },
   "outputs": [],
   "source": [
    "# The lines below will show you a hint or the solution.\n",
    "# step_1.hint() \n",
    "# step_1.solution()"
   ]
  },
  {
   "cell_type": "markdown",
   "id": "ac909fd9",
   "metadata": {
    "papermill": {
     "duration": 0.007287,
     "end_time": "2024-05-04T14:53:41.316769",
     "exception": false,
     "start_time": "2024-05-04T14:53:41.309482",
     "status": "completed"
    },
    "tags": []
   },
   "source": [
    "## Step 2: Create X\n",
    "Now you will create a DataFrame called `X` holding the predictive features.\n",
    "\n",
    "Since you want only some columns from the original data, you'll first create a list with the names of the columns you want in `X`.\n",
    "\n",
    "You'll use just the following columns in the list (you can copy and paste the whole list to save some typing, though you'll still need to add quotes):\n",
    "  * LotArea\n",
    "  * YearBuilt\n",
    "  * 1stFlrSF\n",
    "  * 2ndFlrSF\n",
    "  * FullBath\n",
    "  * BedroomAbvGr\n",
    "  * TotRmsAbvGrd\n",
    "\n",
    "After you've created that list of features, use it to create the DataFrame that you'll use to fit the model."
   ]
  },
  {
   "cell_type": "code",
   "execution_count": 5,
   "id": "2a7914de",
   "metadata": {
    "execution": {
     "iopub.execute_input": "2024-05-04T14:53:41.334171Z",
     "iopub.status.busy": "2024-05-04T14:53:41.333521Z",
     "iopub.status.idle": "2024-05-04T14:53:41.348412Z",
     "shell.execute_reply": "2024-05-04T14:53:41.347433Z"
    },
    "papermill": {
     "duration": 0.026194,
     "end_time": "2024-05-04T14:53:41.350546",
     "exception": false,
     "start_time": "2024-05-04T14:53:41.324352",
     "status": "completed"
    },
    "tags": []
   },
   "outputs": [
    {
     "data": {
      "application/javascript": [
       "parent.postMessage({\"jupyterEvent\": \"custom.exercise_interaction\", \"data\": {\"outcomeType\": 1, \"valueTowardsCompletion\": 0.25, \"interactionType\": 1, \"questionType\": 2, \"questionId\": \"2_SelectPredictionData\", \"learnToolsVersion\": \"0.3.4\", \"failureMessage\": \"\", \"exceptionClass\": \"\", \"trace\": \"\"}}, \"*\")"
      ],
      "text/plain": [
       "<IPython.core.display.Javascript object>"
      ]
     },
     "metadata": {},
     "output_type": "display_data"
    },
    {
     "data": {
      "text/markdown": [
       "<span style=\"color:#33cc33\">Correct</span>"
      ],
      "text/plain": [
       "Correct"
      ]
     },
     "metadata": {},
     "output_type": "display_data"
    }
   ],
   "source": [
    "# Create the list of features below\n",
    "feature_names = home_data[['LotArea','YearBuilt','1stFlrSF','2ndFlrSF','FullBath','BedroomAbvGr','TotRmsAbvGrd']]\n",
    "\n",
    "# Select data corresponding to features in feature_names\n",
    "X = feature_names\n",
    "\n",
    "# Check your answer\n",
    "step_2.check()"
   ]
  },
  {
   "cell_type": "code",
   "execution_count": 6,
   "id": "b8dbabb6",
   "metadata": {
    "collapsed": true,
    "execution": {
     "iopub.execute_input": "2024-05-04T14:53:41.368982Z",
     "iopub.status.busy": "2024-05-04T14:53:41.368568Z",
     "iopub.status.idle": "2024-05-04T14:53:41.372933Z",
     "shell.execute_reply": "2024-05-04T14:53:41.371845Z"
    },
    "jupyter": {
     "outputs_hidden": true
    },
    "papermill": {
     "duration": 0.016811,
     "end_time": "2024-05-04T14:53:41.375205",
     "exception": false,
     "start_time": "2024-05-04T14:53:41.358394",
     "status": "completed"
    },
    "tags": []
   },
   "outputs": [],
   "source": [
    "# step_2.hint()\n",
    "# step_2.solution()"
   ]
  },
  {
   "cell_type": "markdown",
   "id": "58bc7ef9",
   "metadata": {
    "papermill": {
     "duration": 0.007535,
     "end_time": "2024-05-04T14:53:41.390640",
     "exception": false,
     "start_time": "2024-05-04T14:53:41.383105",
     "status": "completed"
    },
    "tags": []
   },
   "source": [
    "## Review Data\n",
    "Before building a model, take a quick look at **X** to verify it looks sensible"
   ]
  },
  {
   "cell_type": "code",
   "execution_count": 7,
   "id": "1856851e",
   "metadata": {
    "execution": {
     "iopub.execute_input": "2024-05-04T14:53:41.408530Z",
     "iopub.status.busy": "2024-05-04T14:53:41.408105Z",
     "iopub.status.idle": "2024-05-04T14:53:41.522372Z",
     "shell.execute_reply": "2024-05-04T14:53:41.521058Z"
    },
    "papermill": {
     "duration": 0.126232,
     "end_time": "2024-05-04T14:53:41.524852",
     "exception": false,
     "start_time": "2024-05-04T14:53:41.398620",
     "status": "completed"
    },
    "tags": []
   },
   "outputs": [
    {
     "name": "stdout",
     "output_type": "stream",
     "text": [
      "             LotArea    YearBuilt     1stFlrSF     2ndFlrSF     FullBath  \\\n",
      "count    1460.000000  1460.000000  1460.000000  1460.000000  1460.000000   \n",
      "mean    10516.828082  1971.267808  1162.626712   346.992466     1.565068   \n",
      "std      9981.264932    30.202904   386.587738   436.528436     0.550916   \n",
      "min      1300.000000  1872.000000   334.000000     0.000000     0.000000   \n",
      "25%      7553.500000  1954.000000   882.000000     0.000000     1.000000   \n",
      "50%      9478.500000  1973.000000  1087.000000     0.000000     2.000000   \n",
      "75%     11601.500000  2000.000000  1391.250000   728.000000     2.000000   \n",
      "max    215245.000000  2010.000000  4692.000000  2065.000000     3.000000   \n",
      "\n",
      "       BedroomAbvGr  TotRmsAbvGrd  \n",
      "count   1460.000000   1460.000000  \n",
      "mean       2.866438      6.517808  \n",
      "std        0.815778      1.625393  \n",
      "min        0.000000      2.000000  \n",
      "25%        2.000000      5.000000  \n",
      "50%        3.000000      6.000000  \n",
      "75%        3.000000      7.000000  \n",
      "max        8.000000     14.000000  \n",
      "   LotArea  YearBuilt  1stFlrSF  2ndFlrSF  FullBath  BedroomAbvGr  \\\n",
      "0     8450       2003       856       854         2             3   \n",
      "1     9600       1976      1262         0         2             3   \n",
      "2    11250       2001       920       866         2             3   \n",
      "3     9550       1915       961       756         1             3   \n",
      "4    14260       2000      1145      1053         2             4   \n",
      "\n",
      "   TotRmsAbvGrd  \n",
      "0             8  \n",
      "1             6  \n",
      "2             6  \n",
      "3             7  \n",
      "4             9  \n"
     ]
    }
   ],
   "source": [
    "#Review data\n",
    "# print description or statistics from X\n",
    "print(X.describe())\n",
    "\n",
    "# print the top few lines\n",
    "print(X.head())"
   ]
  },
  {
   "cell_type": "markdown",
   "id": "5c5dff2d",
   "metadata": {
    "papermill": {
     "duration": 0.007764,
     "end_time": "2024-05-04T14:53:41.540730",
     "exception": false,
     "start_time": "2024-05-04T14:53:41.532966",
     "status": "completed"
    },
    "tags": []
   },
   "source": [
    "## Step 3: Specify and Fit Model\n",
    "Create a `DecisionTreeRegressor` and save it iowa_model. Ensure you've done the relevant import from sklearn to run this command.\n",
    "\n",
    "Then fit the model you just created using the data in `X` and `y` that you saved above."
   ]
  },
  {
   "cell_type": "code",
   "execution_count": 8,
   "id": "b818f95b",
   "metadata": {
    "execution": {
     "iopub.execute_input": "2024-05-04T14:53:41.558409Z",
     "iopub.status.busy": "2024-05-04T14:53:41.558027Z",
     "iopub.status.idle": "2024-05-04T14:53:41.578105Z",
     "shell.execute_reply": "2024-05-04T14:53:41.576962Z"
    },
    "papermill": {
     "duration": 0.031983,
     "end_time": "2024-05-04T14:53:41.580749",
     "exception": false,
     "start_time": "2024-05-04T14:53:41.548766",
     "status": "completed"
    },
    "tags": []
   },
   "outputs": [
    {
     "data": {
      "application/javascript": [
       "parent.postMessage({\"jupyterEvent\": \"custom.exercise_interaction\", \"data\": {\"outcomeType\": 1, \"valueTowardsCompletion\": 0.25, \"interactionType\": 1, \"questionType\": 2, \"questionId\": \"3_CreateModel\", \"learnToolsVersion\": \"0.3.4\", \"failureMessage\": \"\", \"exceptionClass\": \"\", \"trace\": \"\"}}, \"*\")"
      ],
      "text/plain": [
       "<IPython.core.display.Javascript object>"
      ]
     },
     "metadata": {},
     "output_type": "display_data"
    },
    {
     "data": {
      "text/markdown": [
       "<span style=\"color:#33cc33\">Correct</span>"
      ],
      "text/plain": [
       "Correct"
      ]
     },
     "metadata": {},
     "output_type": "display_data"
    }
   ],
   "source": [
    "from sklearn.tree import DecisionTreeRegressor\n",
    "#specify the model. \n",
    "#For model reproducibility, set a numeric value for random_state when specifying the model\n",
    "iowa_model = DecisionTreeRegressor(random_state=1)\n",
    "\n",
    "# Fit the model\n",
    "iowa_model.fit(X,y)\n",
    "\n",
    "# Check your answer\n",
    "step_3.check()"
   ]
  },
  {
   "cell_type": "code",
   "execution_count": 9,
   "id": "d33b46dd",
   "metadata": {
    "collapsed": true,
    "execution": {
     "iopub.execute_input": "2024-05-04T14:53:41.599700Z",
     "iopub.status.busy": "2024-05-04T14:53:41.599302Z",
     "iopub.status.idle": "2024-05-04T14:53:41.603923Z",
     "shell.execute_reply": "2024-05-04T14:53:41.602898Z"
    },
    "jupyter": {
     "outputs_hidden": true
    },
    "papermill": {
     "duration": 0.016624,
     "end_time": "2024-05-04T14:53:41.606229",
     "exception": false,
     "start_time": "2024-05-04T14:53:41.589605",
     "status": "completed"
    },
    "tags": []
   },
   "outputs": [],
   "source": [
    "# step_3.hint()\n",
    "# step_3.solution()"
   ]
  },
  {
   "cell_type": "markdown",
   "id": "03c1e9d0",
   "metadata": {
    "papermill": {
     "duration": 0.00813,
     "end_time": "2024-05-04T14:53:41.622888",
     "exception": false,
     "start_time": "2024-05-04T14:53:41.614758",
     "status": "completed"
    },
    "tags": []
   },
   "source": [
    "## Step 4: Make Predictions\n",
    "Make predictions with the model's `predict` command using `X` as the data. Save the results to a variable called `predictions`."
   ]
  },
  {
   "cell_type": "code",
   "execution_count": 10,
   "id": "98d60077",
   "metadata": {
    "execution": {
     "iopub.execute_input": "2024-05-04T14:53:41.641609Z",
     "iopub.status.busy": "2024-05-04T14:53:41.641228Z",
     "iopub.status.idle": "2024-05-04T14:53:41.655431Z",
     "shell.execute_reply": "2024-05-04T14:53:41.654199Z"
    },
    "papermill": {
     "duration": 0.026265,
     "end_time": "2024-05-04T14:53:41.657567",
     "exception": false,
     "start_time": "2024-05-04T14:53:41.631302",
     "status": "completed"
    },
    "tags": []
   },
   "outputs": [
    {
     "name": "stdout",
     "output_type": "stream",
     "text": [
      "[208500. 181500. 223500. ... 266500. 142125. 147500.]\n"
     ]
    },
    {
     "data": {
      "application/javascript": [
       "parent.postMessage({\"jupyterEvent\": \"custom.exercise_interaction\", \"data\": {\"outcomeType\": 1, \"valueTowardsCompletion\": 0.25, \"interactionType\": 1, \"questionType\": 2, \"questionId\": \"4_MakePredictions\", \"learnToolsVersion\": \"0.3.4\", \"failureMessage\": \"\", \"exceptionClass\": \"\", \"trace\": \"\"}}, \"*\")"
      ],
      "text/plain": [
       "<IPython.core.display.Javascript object>"
      ]
     },
     "metadata": {},
     "output_type": "display_data"
    },
    {
     "data": {
      "text/markdown": [
       "<span style=\"color:#33cc33\">Correct</span>"
      ],
      "text/plain": [
       "Correct"
      ]
     },
     "metadata": {},
     "output_type": "display_data"
    }
   ],
   "source": [
    "predictions = iowa_model.predict(X)\n",
    "print(predictions)\n",
    "\n",
    "# Check your answer\n",
    "step_4.check()"
   ]
  },
  {
   "cell_type": "code",
   "execution_count": 11,
   "id": "6909bdc5",
   "metadata": {
    "collapsed": true,
    "execution": {
     "iopub.execute_input": "2024-05-04T14:53:41.677144Z",
     "iopub.status.busy": "2024-05-04T14:53:41.676772Z",
     "iopub.status.idle": "2024-05-04T14:53:41.680391Z",
     "shell.execute_reply": "2024-05-04T14:53:41.679604Z"
    },
    "jupyter": {
     "outputs_hidden": true
    },
    "papermill": {
     "duration": 0.015791,
     "end_time": "2024-05-04T14:53:41.682275",
     "exception": false,
     "start_time": "2024-05-04T14:53:41.666484",
     "status": "completed"
    },
    "tags": []
   },
   "outputs": [],
   "source": [
    "# step_4.hint()\n",
    "# step_4.solution()"
   ]
  },
  {
   "cell_type": "markdown",
   "id": "665313f6",
   "metadata": {
    "papermill": {
     "duration": 0.008733,
     "end_time": "2024-05-04T14:53:41.700320",
     "exception": false,
     "start_time": "2024-05-04T14:53:41.691587",
     "status": "completed"
    },
    "tags": []
   },
   "source": [
    "## Think About Your Results\n",
    "\n",
    "Use the `head` method to compare the top few predictions to the actual home values (in `y`) for those same homes. Anything surprising?\n"
   ]
  },
  {
   "cell_type": "code",
   "execution_count": 12,
   "id": "d93f2ea4",
   "metadata": {
    "execution": {
     "iopub.execute_input": "2024-05-04T14:53:41.719934Z",
     "iopub.status.busy": "2024-05-04T14:53:41.719531Z",
     "iopub.status.idle": "2024-05-04T14:53:41.727873Z",
     "shell.execute_reply": "2024-05-04T14:53:41.726616Z"
    },
    "papermill": {
     "duration": 0.020791,
     "end_time": "2024-05-04T14:53:41.729927",
     "exception": false,
     "start_time": "2024-05-04T14:53:41.709136",
     "status": "completed"
    },
    "tags": []
   },
   "outputs": [
    {
     "name": "stdout",
     "output_type": "stream",
     "text": [
      "[208500. 181500. 223500. 140000. 250000.]\n",
      "0    208500\n",
      "1    181500\n",
      "2    223500\n",
      "3    140000\n",
      "4    250000\n",
      "Name: SalePrice, dtype: int64\n"
     ]
    }
   ],
   "source": [
    "# You can write code in this cell\n",
    "print(iowa_model.predict(X.head()))\n",
    "print(y.head())"
   ]
  },
  {
   "cell_type": "markdown",
   "id": "722fd35b",
   "metadata": {
    "papermill": {
     "duration": 0.008635,
     "end_time": "2024-05-04T14:53:41.747617",
     "exception": false,
     "start_time": "2024-05-04T14:53:41.738982",
     "status": "completed"
    },
    "tags": []
   },
   "source": [
    "It's natural to ask how accurate the model's predictions will be and how you can improve that. That will be you're next step.\n",
    "\n",
    "# Keep Going\n",
    "\n",
    "You are ready for **[Model Validation](https://www.kaggle.com/dansbecker/model-validation).**\n"
   ]
  },
  {
   "cell_type": "markdown",
   "id": "f441a82e",
   "metadata": {
    "papermill": {
     "duration": 0.008639,
     "end_time": "2024-05-04T14:53:41.765365",
     "exception": false,
     "start_time": "2024-05-04T14:53:41.756726",
     "status": "completed"
    },
    "tags": []
   },
   "source": [
    "---\n",
    "\n",
    "\n",
    "\n",
    "\n",
    "*Have questions or comments? Visit the [course discussion forum](https://www.kaggle.com/learn/intro-to-machine-learning/discussion) to chat with other learners.*"
   ]
  }
 ],
 "metadata": {
  "kaggle": {
   "accelerator": "none",
   "dataSources": [
    {
     "databundleVersionId": 111096,
     "sourceId": 10211,
     "sourceType": "competition"
    },
    {
     "datasetId": 11167,
     "sourceId": 15520,
     "sourceType": "datasetVersion"
    },
    {
     "datasetId": 2709,
     "sourceId": 38454,
     "sourceType": "datasetVersion"
    }
   ],
   "isGpuEnabled": false,
   "isInternetEnabled": false,
   "language": "python",
   "sourceType": "notebook"
  },
  "kernelspec": {
   "display_name": "Python 3",
   "language": "python",
   "name": "python3"
  },
  "language_info": {
   "codemirror_mode": {
    "name": "ipython",
    "version": 3
   },
   "file_extension": ".py",
   "mimetype": "text/x-python",
   "name": "python",
   "nbconvert_exporter": "python",
   "pygments_lexer": "ipython3",
   "version": "3.10.13"
  },
  "papermill": {
   "default_parameters": {},
   "duration": 6.652676,
   "end_time": "2024-05-04T14:53:42.395333",
   "environment_variables": {},
   "exception": null,
   "input_path": "__notebook__.ipynb",
   "output_path": "__notebook__.ipynb",
   "parameters": {},
   "start_time": "2024-05-04T14:53:35.742657",
   "version": "2.5.0"
  }
 },
 "nbformat": 4,
 "nbformat_minor": 5
}

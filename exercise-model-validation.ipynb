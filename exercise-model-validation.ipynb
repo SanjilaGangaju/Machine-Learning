{
 "cells": [
  {
   "cell_type": "markdown",
   "id": "c1eba17a",
   "metadata": {
    "papermill": {
     "duration": 0.006628,
     "end_time": "2024-05-04T15:20:24.784343",
     "exception": false,
     "start_time": "2024-05-04T15:20:24.777715",
     "status": "completed"
    },
    "tags": []
   },
   "source": [
    "**This notebook is an exercise in the [Introduction to Machine Learning](https://www.kaggle.com/learn/intro-to-machine-learning) course.  You can reference the tutorial at [this link](https://www.kaggle.com/dansbecker/model-validation).**\n",
    "\n",
    "---\n"
   ]
  },
  {
   "cell_type": "markdown",
   "id": "e4bb7cf3",
   "metadata": {
    "papermill": {
     "duration": 0.005804,
     "end_time": "2024-05-04T15:20:24.796538",
     "exception": false,
     "start_time": "2024-05-04T15:20:24.790734",
     "status": "completed"
    },
    "tags": []
   },
   "source": [
    "## Recap\n",
    "You've built a model. In this exercise you will test how good your model is.\n",
    "\n",
    "Run the cell below to set up your coding environment where the previous exercise left off."
   ]
  },
  {
   "cell_type": "code",
   "execution_count": 1,
   "id": "ca9787b6",
   "metadata": {
    "execution": {
     "iopub.execute_input": "2024-05-04T15:20:24.810905Z",
     "iopub.status.busy": "2024-05-04T15:20:24.810174Z",
     "iopub.status.idle": "2024-05-04T15:20:27.686087Z",
     "shell.execute_reply": "2024-05-04T15:20:27.684500Z"
    },
    "papermill": {
     "duration": 2.886276,
     "end_time": "2024-05-04T15:20:27.688812",
     "exception": false,
     "start_time": "2024-05-04T15:20:24.802536",
     "status": "completed"
    },
    "tags": []
   },
   "outputs": [
    {
     "name": "stdout",
     "output_type": "stream",
     "text": [
      "First in-sample predictions: [208500. 181500. 223500. 140000. 250000.]\n",
      "Actual target values for those homes: [208500, 181500, 223500, 140000, 250000]\n",
      "Setup Complete\n"
     ]
    }
   ],
   "source": [
    "# Code you have previously used to load data\n",
    "import pandas as pd\n",
    "from sklearn.tree import DecisionTreeRegressor\n",
    "\n",
    "# Path of the file to read\n",
    "iowa_file_path = '../input/home-data-for-ml-course/train.csv'\n",
    "\n",
    "home_data = pd.read_csv(iowa_file_path)\n",
    "y = home_data.SalePrice\n",
    "feature_columns = ['LotArea', 'YearBuilt', '1stFlrSF', '2ndFlrSF', 'FullBath', 'BedroomAbvGr', 'TotRmsAbvGrd']\n",
    "X = home_data[feature_columns]\n",
    "\n",
    "# Specify Model\n",
    "iowa_model = DecisionTreeRegressor()\n",
    "# Fit Model\n",
    "iowa_model.fit(X, y)\n",
    "\n",
    "print(\"First in-sample predictions:\", iowa_model.predict(X.head()))\n",
    "print(\"Actual target values for those homes:\", y.head().tolist())\n",
    "\n",
    "# Set up code checking\n",
    "from learntools.core import binder\n",
    "binder.bind(globals())\n",
    "from learntools.machine_learning.ex4 import *\n",
    "print(\"Setup Complete\")"
   ]
  },
  {
   "cell_type": "markdown",
   "id": "0cf5feb3",
   "metadata": {
    "papermill": {
     "duration": 0.006105,
     "end_time": "2024-05-04T15:20:27.701504",
     "exception": false,
     "start_time": "2024-05-04T15:20:27.695399",
     "status": "completed"
    },
    "tags": []
   },
   "source": [
    "# Exercises\n",
    "\n",
    "## Step 1: Split Your Data\n",
    "Use the `train_test_split` function to split up your data.\n",
    "\n",
    "Give it the argument `random_state=1` so the `check` functions know what to expect when verifying your code.\n",
    "\n",
    "Recall, your features are loaded in the DataFrame **X** and your target is loaded in **y**.\n"
   ]
  },
  {
   "cell_type": "code",
   "execution_count": 2,
   "id": "197993f0",
   "metadata": {
    "execution": {
     "iopub.execute_input": "2024-05-04T15:20:27.715952Z",
     "iopub.status.busy": "2024-05-04T15:20:27.715525Z",
     "iopub.status.idle": "2024-05-04T15:20:27.737276Z",
     "shell.execute_reply": "2024-05-04T15:20:27.736274Z"
    },
    "papermill": {
     "duration": 0.031923,
     "end_time": "2024-05-04T15:20:27.739763",
     "exception": false,
     "start_time": "2024-05-04T15:20:27.707840",
     "status": "completed"
    },
    "tags": []
   },
   "outputs": [
    {
     "data": {
      "application/javascript": [
       "parent.postMessage({\"jupyterEvent\": \"custom.exercise_interaction\", \"data\": {\"outcomeType\": 1, \"valueTowardsCompletion\": 0.25, \"interactionType\": 1, \"questionType\": 2, \"questionId\": \"1_SplitData\", \"learnToolsVersion\": \"0.3.4\", \"failureMessage\": \"\", \"exceptionClass\": \"\", \"trace\": \"\"}}, \"*\")"
      ],
      "text/plain": [
       "<IPython.core.display.Javascript object>"
      ]
     },
     "metadata": {},
     "output_type": "display_data"
    },
    {
     "data": {
      "text/markdown": [
       "<span style=\"color:#33cc33\">Correct</span>"
      ],
      "text/plain": [
       "Correct"
      ]
     },
     "metadata": {},
     "output_type": "display_data"
    }
   ],
   "source": [
    "from sklearn.model_selection import train_test_split\n",
    "\n",
    "\n",
    "# fill in and uncomment\n",
    "train_X, val_X, train_y, val_y = train_test_split(X,y,random_state=1)\n",
    "\n",
    "# Check your answer\n",
    "step_1.check()"
   ]
  },
  {
   "cell_type": "code",
   "execution_count": 3,
   "id": "f07cd76a",
   "metadata": {
    "execution": {
     "iopub.execute_input": "2024-05-04T15:20:27.756287Z",
     "iopub.status.busy": "2024-05-04T15:20:27.755843Z",
     "iopub.status.idle": "2024-05-04T15:20:27.761434Z",
     "shell.execute_reply": "2024-05-04T15:20:27.759711Z"
    },
    "papermill": {
     "duration": 0.017028,
     "end_time": "2024-05-04T15:20:27.764039",
     "exception": false,
     "start_time": "2024-05-04T15:20:27.747011",
     "status": "completed"
    },
    "tags": []
   },
   "outputs": [],
   "source": [
    "# The lines below will show you a hint or the solution.\n",
    "# step_1.hint() \n",
    "# step_1.solution()\n"
   ]
  },
  {
   "cell_type": "markdown",
   "id": "39a35df2",
   "metadata": {
    "papermill": {
     "duration": 0.006478,
     "end_time": "2024-05-04T15:20:27.777454",
     "exception": false,
     "start_time": "2024-05-04T15:20:27.770976",
     "status": "completed"
    },
    "tags": []
   },
   "source": [
    "## Step 2: Specify and Fit the Model\n",
    "\n",
    "Create a `DecisionTreeRegressor` model and fit it to the relevant data.\n",
    "Set `random_state` to 1 again when creating the model."
   ]
  },
  {
   "cell_type": "code",
   "execution_count": 4,
   "id": "7271c7c3",
   "metadata": {
    "execution": {
     "iopub.execute_input": "2024-05-04T15:20:27.793623Z",
     "iopub.status.busy": "2024-05-04T15:20:27.793175Z",
     "iopub.status.idle": "2024-05-04T15:20:27.822029Z",
     "shell.execute_reply": "2024-05-04T15:20:27.820810Z"
    },
    "papermill": {
     "duration": 0.039725,
     "end_time": "2024-05-04T15:20:27.824485",
     "exception": false,
     "start_time": "2024-05-04T15:20:27.784760",
     "status": "completed"
    },
    "tags": []
   },
   "outputs": [
    {
     "name": "stdout",
     "output_type": "stream",
     "text": [
      "[186500. 184000. 130000.  92000. 164500. 220000. 335000. 144152. 215000.\n",
      " 262000.]\n",
      "[186500. 184000. 130000.  92000. 164500. 220000. 335000. 144152. 215000.\n",
      " 262000.]\n"
     ]
    },
    {
     "data": {
      "application/javascript": [
       "parent.postMessage({\"jupyterEvent\": \"custom.exercise_interaction\", \"data\": {\"outcomeType\": 1, \"valueTowardsCompletion\": 0.25, \"interactionType\": 1, \"questionType\": 2, \"questionId\": \"2_FitModelWithTrain\", \"learnToolsVersion\": \"0.3.4\", \"failureMessage\": \"\", \"exceptionClass\": \"\", \"trace\": \"\"}}, \"*\")"
      ],
      "text/plain": [
       "<IPython.core.display.Javascript object>"
      ]
     },
     "metadata": {},
     "output_type": "display_data"
    },
    {
     "data": {
      "text/markdown": [
       "<span style=\"color:#33cc33\">Correct</span>"
      ],
      "text/plain": [
       "Correct"
      ]
     },
     "metadata": {},
     "output_type": "display_data"
    }
   ],
   "source": [
    "# You imported DecisionTreeRegressor in your last exercise\n",
    "# and that code has been copied to the setup code above. So, no need to\n",
    "# import it again\n",
    "\n",
    "# Specify the model\n",
    "iowa_model = DecisionTreeRegressor(random_state=1)\n",
    "\n",
    "# Fit iowa_model with the training data.\n",
    "iowa_model.fit(train_X,train_y)\n",
    "\n",
    "# Check your answer\n",
    "step_2.check()"
   ]
  },
  {
   "cell_type": "code",
   "execution_count": 5,
   "id": "ca6a80e9",
   "metadata": {
    "execution": {
     "iopub.execute_input": "2024-05-04T15:20:27.840875Z",
     "iopub.status.busy": "2024-05-04T15:20:27.840491Z",
     "iopub.status.idle": "2024-05-04T15:20:27.845366Z",
     "shell.execute_reply": "2024-05-04T15:20:27.844107Z"
    },
    "papermill": {
     "duration": 0.01628,
     "end_time": "2024-05-04T15:20:27.847839",
     "exception": false,
     "start_time": "2024-05-04T15:20:27.831559",
     "status": "completed"
    },
    "tags": []
   },
   "outputs": [],
   "source": [
    "# step_2.hint()\n",
    "# step_2.solution()"
   ]
  },
  {
   "cell_type": "markdown",
   "id": "22fd0147",
   "metadata": {
    "papermill": {
     "duration": 0.006966,
     "end_time": "2024-05-04T15:20:27.862541",
     "exception": false,
     "start_time": "2024-05-04T15:20:27.855575",
     "status": "completed"
    },
    "tags": []
   },
   "source": [
    "## Step 3: Make Predictions with Validation data\n"
   ]
  },
  {
   "cell_type": "code",
   "execution_count": 6,
   "id": "9a5402d0",
   "metadata": {
    "execution": {
     "iopub.execute_input": "2024-05-04T15:20:27.878993Z",
     "iopub.status.busy": "2024-05-04T15:20:27.878578Z",
     "iopub.status.idle": "2024-05-04T15:20:27.892529Z",
     "shell.execute_reply": "2024-05-04T15:20:27.891296Z"
    },
    "papermill": {
     "duration": 0.025121,
     "end_time": "2024-05-04T15:20:27.894986",
     "exception": false,
     "start_time": "2024-05-04T15:20:27.869865",
     "status": "completed"
    },
    "tags": []
   },
   "outputs": [
    {
     "data": {
      "application/javascript": [
       "parent.postMessage({\"jupyterEvent\": \"custom.exercise_interaction\", \"data\": {\"outcomeType\": 1, \"valueTowardsCompletion\": 0.25, \"interactionType\": 1, \"questionType\": 2, \"questionId\": \"3_ValPreds\", \"learnToolsVersion\": \"0.3.4\", \"failureMessage\": \"\", \"exceptionClass\": \"\", \"trace\": \"\"}}, \"*\")"
      ],
      "text/plain": [
       "<IPython.core.display.Javascript object>"
      ]
     },
     "metadata": {},
     "output_type": "display_data"
    },
    {
     "data": {
      "text/markdown": [
       "<span style=\"color:#33cc33\">Correct</span>"
      ],
      "text/plain": [
       "Correct"
      ]
     },
     "metadata": {},
     "output_type": "display_data"
    }
   ],
   "source": [
    "# Predict with all validation observations\n",
    "val_predictions = iowa_model.predict(val_X)\n",
    "\n",
    "# Check your answer\n",
    "step_3.check()"
   ]
  },
  {
   "cell_type": "code",
   "execution_count": 7,
   "id": "b3768e64",
   "metadata": {
    "execution": {
     "iopub.execute_input": "2024-05-04T15:20:27.913253Z",
     "iopub.status.busy": "2024-05-04T15:20:27.912836Z",
     "iopub.status.idle": "2024-05-04T15:20:27.922468Z",
     "shell.execute_reply": "2024-05-04T15:20:27.921301Z"
    },
    "papermill": {
     "duration": 0.022465,
     "end_time": "2024-05-04T15:20:27.925104",
     "exception": false,
     "start_time": "2024-05-04T15:20:27.902639",
     "status": "completed"
    },
    "tags": []
   },
   "outputs": [
    {
     "data": {
      "application/javascript": [
       "parent.postMessage({\"jupyterEvent\": \"custom.exercise_interaction\", \"data\": {\"interactionType\": 3, \"questionType\": 2, \"questionId\": \"3_ValPreds\", \"learnToolsVersion\": \"0.3.4\", \"valueTowardsCompletion\": 0.0, \"failureMessage\": \"\", \"exceptionClass\": \"\", \"trace\": \"\", \"outcomeType\": 4}}, \"*\")"
      ],
      "text/plain": [
       "<IPython.core.display.Javascript object>"
      ]
     },
     "metadata": {},
     "output_type": "display_data"
    },
    {
     "data": {
      "text/markdown": [
       "<span style=\"color:#33cc99\">Solution:</span> \n",
       "```python\n",
       "val_predictions = iowa_model.predict(val_X)\n",
       "```"
      ],
      "text/plain": [
       "Solution: \n",
       "```python\n",
       "val_predictions = iowa_model.predict(val_X)\n",
       "```"
      ]
     },
     "metadata": {},
     "output_type": "display_data"
    }
   ],
   "source": [
    "# step_3.hint()\n",
    "step_3.solution()"
   ]
  },
  {
   "cell_type": "markdown",
   "id": "eade1880",
   "metadata": {
    "papermill": {
     "duration": 0.007514,
     "end_time": "2024-05-04T15:20:27.940781",
     "exception": false,
     "start_time": "2024-05-04T15:20:27.933267",
     "status": "completed"
    },
    "tags": []
   },
   "source": [
    "Inspect your predictions and actual values from validation data."
   ]
  },
  {
   "cell_type": "code",
   "execution_count": 8,
   "id": "7582a1cb",
   "metadata": {
    "execution": {
     "iopub.execute_input": "2024-05-04T15:20:27.958249Z",
     "iopub.status.busy": "2024-05-04T15:20:27.957842Z",
     "iopub.status.idle": "2024-05-04T15:20:27.967569Z",
     "shell.execute_reply": "2024-05-04T15:20:27.966292Z"
    },
    "papermill": {
     "duration": 0.021864,
     "end_time": "2024-05-04T15:20:27.970489",
     "exception": false,
     "start_time": "2024-05-04T15:20:27.948625",
     "status": "completed"
    },
    "tags": []
   },
   "outputs": [
    {
     "name": "stdout",
     "output_type": "stream",
     "text": [
      "[186500. 184000. 130000.  92000. 164500.]\n",
      "258     231500\n",
      "267     179500\n",
      "288     122000\n",
      "649      84500\n",
      "1233    142000\n",
      "Name: SalePrice, dtype: int64\n"
     ]
    }
   ],
   "source": [
    "# print the top few validation predictions\n",
    "print(iowa_model.predict(val_X.head()))\n",
    "# print the top few actual prices from validation data\n",
    "print(val_y.head(5))"
   ]
  },
  {
   "cell_type": "markdown",
   "id": "a2062f32",
   "metadata": {
    "papermill": {
     "duration": 0.007591,
     "end_time": "2024-05-04T15:20:27.986142",
     "exception": false,
     "start_time": "2024-05-04T15:20:27.978551",
     "status": "completed"
    },
    "tags": []
   },
   "source": [
    "What do you notice that is different from what you saw with in-sample predictions (which are printed after the top code cell in this page).\n",
    "\n",
    "Do you remember why validation predictions differ from in-sample (or training) predictions? This is an important idea from the last lesson.\n",
    "\n",
    "## Step 4: Calculate the Mean Absolute Error in Validation Data\n"
   ]
  },
  {
   "cell_type": "code",
   "execution_count": 9,
   "id": "876d88e8",
   "metadata": {
    "execution": {
     "iopub.execute_input": "2024-05-04T15:20:28.003961Z",
     "iopub.status.busy": "2024-05-04T15:20:28.003495Z",
     "iopub.status.idle": "2024-05-04T15:20:28.015437Z",
     "shell.execute_reply": "2024-05-04T15:20:28.014281Z"
    },
    "papermill": {
     "duration": 0.023769,
     "end_time": "2024-05-04T15:20:28.017833",
     "exception": false,
     "start_time": "2024-05-04T15:20:27.994064",
     "status": "completed"
    },
    "tags": []
   },
   "outputs": [
    {
     "name": "stdout",
     "output_type": "stream",
     "text": [
      "29652.931506849316\n"
     ]
    },
    {
     "data": {
      "application/javascript": [
       "parent.postMessage({\"jupyterEvent\": \"custom.exercise_interaction\", \"data\": {\"outcomeType\": 1, \"valueTowardsCompletion\": 0.25, \"interactionType\": 1, \"questionType\": 1, \"questionId\": \"4_MAE\", \"learnToolsVersion\": \"0.3.4\", \"failureMessage\": \"\", \"exceptionClass\": \"\", \"trace\": \"\"}}, \"*\")"
      ],
      "text/plain": [
       "<IPython.core.display.Javascript object>"
      ]
     },
     "metadata": {},
     "output_type": "display_data"
    },
    {
     "data": {
      "text/markdown": [
       "<span style=\"color:#33cc33\">Correct</span>"
      ],
      "text/plain": [
       "Correct"
      ]
     },
     "metadata": {},
     "output_type": "display_data"
    }
   ],
   "source": [
    "from sklearn.metrics import mean_absolute_error\n",
    "val_mae = mean_absolute_error(val_y,val_predictions)\n",
    "\n",
    "# uncomment following line to see the validation_mae\n",
    "print(val_mae)\n",
    "\n",
    "# Check your answer\n",
    "step_4.check()"
   ]
  },
  {
   "cell_type": "code",
   "execution_count": 10,
   "id": "b35fa654",
   "metadata": {
    "execution": {
     "iopub.execute_input": "2024-05-04T15:20:28.036691Z",
     "iopub.status.busy": "2024-05-04T15:20:28.036017Z",
     "iopub.status.idle": "2024-05-04T15:20:28.040246Z",
     "shell.execute_reply": "2024-05-04T15:20:28.039274Z"
    },
    "papermill": {
     "duration": 0.016123,
     "end_time": "2024-05-04T15:20:28.042360",
     "exception": false,
     "start_time": "2024-05-04T15:20:28.026237",
     "status": "completed"
    },
    "tags": []
   },
   "outputs": [],
   "source": [
    "# step_4.hint()\n",
    "# step_4.solution()"
   ]
  },
  {
   "cell_type": "markdown",
   "id": "35409a0d",
   "metadata": {
    "papermill": {
     "duration": 0.008031,
     "end_time": "2024-05-04T15:20:28.058805",
     "exception": false,
     "start_time": "2024-05-04T15:20:28.050774",
     "status": "completed"
    },
    "tags": []
   },
   "source": [
    "Is that MAE good?  There isn't a general rule for what values are good that applies across applications. But you'll see how to use (and improve) this number in the next step.\n",
    "\n",
    "# Keep Going\n",
    "\n",
    "You are ready for **[Underfitting and Overfitting](https://www.kaggle.com/dansbecker/underfitting-and-overfitting).**\n"
   ]
  },
  {
   "cell_type": "markdown",
   "id": "97922ba3",
   "metadata": {
    "papermill": {
     "duration": 0.008148,
     "end_time": "2024-05-04T15:20:28.075717",
     "exception": false,
     "start_time": "2024-05-04T15:20:28.067569",
     "status": "completed"
    },
    "tags": []
   },
   "source": [
    "---\n",
    "\n",
    "\n",
    "\n",
    "\n",
    "*Have questions or comments? Visit the [course discussion forum](https://www.kaggle.com/learn/intro-to-machine-learning/discussion) to chat with other learners.*"
   ]
  }
 ],
 "metadata": {
  "kaggle": {
   "accelerator": "none",
   "dataSources": [
    {
     "databundleVersionId": 111096,
     "sourceId": 10211,
     "sourceType": "competition"
    },
    {
     "datasetId": 11167,
     "sourceId": 15520,
     "sourceType": "datasetVersion"
    },
    {
     "datasetId": 2709,
     "sourceId": 38454,
     "sourceType": "datasetVersion"
    }
   ],
   "isGpuEnabled": false,
   "isInternetEnabled": false,
   "language": "python",
   "sourceType": "notebook"
  },
  "kernelspec": {
   "display_name": "Python 3",
   "language": "python",
   "name": "python3"
  },
  "language_info": {
   "codemirror_mode": {
    "name": "ipython",
    "version": 3
   },
   "file_extension": ".py",
   "mimetype": "text/x-python",
   "name": "python",
   "nbconvert_exporter": "python",
   "pygments_lexer": "ipython3",
   "version": "3.10.13"
  },
  "papermill": {
   "default_parameters": {},
   "duration": 7.122001,
   "end_time": "2024-05-04T15:20:28.707687",
   "environment_variables": {},
   "exception": null,
   "input_path": "__notebook__.ipynb",
   "output_path": "__notebook__.ipynb",
   "parameters": {},
   "start_time": "2024-05-04T15:20:21.585686",
   "version": "2.5.0"
  }
 },
 "nbformat": 4,
 "nbformat_minor": 5
}

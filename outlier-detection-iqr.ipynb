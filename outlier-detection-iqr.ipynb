{
 "cells": [
  {
   "cell_type": "code",
   "execution_count": 1,
   "id": "d88f63d8",
   "metadata": {
    "_cell_guid": "b1076dfc-b9ad-4769-8c92-a6c4dae69d19",
    "_uuid": "8f2839f25d086af736a60e9eeb907d3b93b6e0e5",
    "execution": {
     "iopub.execute_input": "2024-05-24T14:58:22.757394Z",
     "iopub.status.busy": "2024-05-24T14:58:22.756993Z",
     "iopub.status.idle": "2024-05-24T14:58:23.520002Z",
     "shell.execute_reply": "2024-05-24T14:58:23.518931Z"
    },
    "papermill": {
     "duration": 0.77351,
     "end_time": "2024-05-24T14:58:23.522882",
     "exception": false,
     "start_time": "2024-05-24T14:58:22.749372",
     "status": "completed"
    },
    "tags": []
   },
   "outputs": [
    {
     "name": "stdout",
     "output_type": "stream",
     "text": [
      "/kaggle/input/weight-height/weight-height.csv\n"
     ]
    }
   ],
   "source": [
    "# This Python 3 environment comes with many helpful analytics libraries installed\n",
    "# It is defined by the kaggle/python Docker image: https://github.com/kaggle/docker-python\n",
    "# For example, here's several helpful packages to load\n",
    "\n",
    "import numpy as np # linear algebra\n",
    "import pandas as pd # data processing, CSV file I/O (e.g. pd.read_csv)\n",
    "\n",
    "# Input data files are available in the read-only \"../input/\" directory\n",
    "# For example, running this (by clicking run or pressing Shift+Enter) will list all files under the input directory\n",
    "\n",
    "import os\n",
    "for dirname, _, filenames in os.walk('/kaggle/input'):\n",
    "    for filename in filenames:\n",
    "        print(os.path.join(dirname, filename))\n",
    "\n",
    "# You can write up to 20GB to the current directory (/kaggle/working/) that gets preserved as output when you create a version using \"Save & Run All\" \n",
    "# You can also write temporary files to /kaggle/temp/, but they won't be saved outside of the current session"
   ]
  },
  {
   "cell_type": "code",
   "execution_count": 2,
   "id": "85db5e28",
   "metadata": {
    "execution": {
     "iopub.execute_input": "2024-05-24T14:58:23.536547Z",
     "iopub.status.busy": "2024-05-24T14:58:23.536062Z",
     "iopub.status.idle": "2024-05-24T14:58:23.563845Z",
     "shell.execute_reply": "2024-05-24T14:58:23.562833Z"
    },
    "papermill": {
     "duration": 0.03749,
     "end_time": "2024-05-24T14:58:23.566302",
     "exception": false,
     "start_time": "2024-05-24T14:58:23.528812",
     "status": "completed"
    },
    "tags": []
   },
   "outputs": [],
   "source": [
    "data=pd.read_csv(\"/kaggle/input/weight-height/weight-height.csv\")"
   ]
  },
  {
   "cell_type": "code",
   "execution_count": 3,
   "id": "5e9f55b8",
   "metadata": {
    "execution": {
     "iopub.execute_input": "2024-05-24T14:58:23.580592Z",
     "iopub.status.busy": "2024-05-24T14:58:23.579807Z",
     "iopub.status.idle": "2024-05-24T14:58:23.600409Z",
     "shell.execute_reply": "2024-05-24T14:58:23.599103Z"
    },
    "papermill": {
     "duration": 0.030282,
     "end_time": "2024-05-24T14:58:23.602801",
     "exception": false,
     "start_time": "2024-05-24T14:58:23.572519",
     "status": "completed"
    },
    "tags": []
   },
   "outputs": [
    {
     "data": {
      "text/html": [
       "<div>\n",
       "<style scoped>\n",
       "    .dataframe tbody tr th:only-of-type {\n",
       "        vertical-align: middle;\n",
       "    }\n",
       "\n",
       "    .dataframe tbody tr th {\n",
       "        vertical-align: top;\n",
       "    }\n",
       "\n",
       "    .dataframe thead th {\n",
       "        text-align: right;\n",
       "    }\n",
       "</style>\n",
       "<table border=\"1\" class=\"dataframe\">\n",
       "  <thead>\n",
       "    <tr style=\"text-align: right;\">\n",
       "      <th></th>\n",
       "      <th>Gender</th>\n",
       "      <th>Height</th>\n",
       "      <th>Weight</th>\n",
       "    </tr>\n",
       "  </thead>\n",
       "  <tbody>\n",
       "    <tr>\n",
       "      <th>0</th>\n",
       "      <td>Male</td>\n",
       "      <td>73.847017</td>\n",
       "      <td>241.893563</td>\n",
       "    </tr>\n",
       "    <tr>\n",
       "      <th>1</th>\n",
       "      <td>Male</td>\n",
       "      <td>68.781904</td>\n",
       "      <td>162.310473</td>\n",
       "    </tr>\n",
       "    <tr>\n",
       "      <th>2</th>\n",
       "      <td>Male</td>\n",
       "      <td>74.110105</td>\n",
       "      <td>212.740856</td>\n",
       "    </tr>\n",
       "    <tr>\n",
       "      <th>3</th>\n",
       "      <td>Male</td>\n",
       "      <td>71.730978</td>\n",
       "      <td>220.042470</td>\n",
       "    </tr>\n",
       "    <tr>\n",
       "      <th>4</th>\n",
       "      <td>Male</td>\n",
       "      <td>69.881796</td>\n",
       "      <td>206.349801</td>\n",
       "    </tr>\n",
       "  </tbody>\n",
       "</table>\n",
       "</div>"
      ],
      "text/plain": [
       "  Gender     Height      Weight\n",
       "0   Male  73.847017  241.893563\n",
       "1   Male  68.781904  162.310473\n",
       "2   Male  74.110105  212.740856\n",
       "3   Male  71.730978  220.042470\n",
       "4   Male  69.881796  206.349801"
      ]
     },
     "execution_count": 3,
     "metadata": {},
     "output_type": "execute_result"
    }
   ],
   "source": [
    "data.head()"
   ]
  },
  {
   "cell_type": "code",
   "execution_count": 4,
   "id": "0214eaf9",
   "metadata": {
    "execution": {
     "iopub.execute_input": "2024-05-24T14:58:23.616582Z",
     "iopub.status.busy": "2024-05-24T14:58:23.615704Z",
     "iopub.status.idle": "2024-05-24T14:58:23.621909Z",
     "shell.execute_reply": "2024-05-24T14:58:23.620992Z"
    },
    "papermill": {
     "duration": 0.015182,
     "end_time": "2024-05-24T14:58:23.623930",
     "exception": false,
     "start_time": "2024-05-24T14:58:23.608748",
     "status": "completed"
    },
    "tags": []
   },
   "outputs": [
    {
     "data": {
      "text/plain": [
       "(10000, 3)"
      ]
     },
     "execution_count": 4,
     "metadata": {},
     "output_type": "execute_result"
    }
   ],
   "source": [
    "d1=data.shape\n",
    "d1"
   ]
  },
  {
   "cell_type": "code",
   "execution_count": 5,
   "id": "e5b39899",
   "metadata": {
    "execution": {
     "iopub.execute_input": "2024-05-24T14:58:23.637721Z",
     "iopub.status.busy": "2024-05-24T14:58:23.636836Z",
     "iopub.status.idle": "2024-05-24T14:58:23.657151Z",
     "shell.execute_reply": "2024-05-24T14:58:23.656123Z"
    },
    "papermill": {
     "duration": 0.029639,
     "end_time": "2024-05-24T14:58:23.659406",
     "exception": false,
     "start_time": "2024-05-24T14:58:23.629767",
     "status": "completed"
    },
    "tags": []
   },
   "outputs": [
    {
     "data": {
      "text/html": [
       "<div>\n",
       "<style scoped>\n",
       "    .dataframe tbody tr th:only-of-type {\n",
       "        vertical-align: middle;\n",
       "    }\n",
       "\n",
       "    .dataframe tbody tr th {\n",
       "        vertical-align: top;\n",
       "    }\n",
       "\n",
       "    .dataframe thead th {\n",
       "        text-align: right;\n",
       "    }\n",
       "</style>\n",
       "<table border=\"1\" class=\"dataframe\">\n",
       "  <thead>\n",
       "    <tr style=\"text-align: right;\">\n",
       "      <th></th>\n",
       "      <th>Height</th>\n",
       "      <th>Weight</th>\n",
       "    </tr>\n",
       "  </thead>\n",
       "  <tbody>\n",
       "    <tr>\n",
       "      <th>count</th>\n",
       "      <td>10000.000000</td>\n",
       "      <td>10000.000000</td>\n",
       "    </tr>\n",
       "    <tr>\n",
       "      <th>mean</th>\n",
       "      <td>66.367560</td>\n",
       "      <td>161.440357</td>\n",
       "    </tr>\n",
       "    <tr>\n",
       "      <th>std</th>\n",
       "      <td>3.847528</td>\n",
       "      <td>32.108439</td>\n",
       "    </tr>\n",
       "    <tr>\n",
       "      <th>min</th>\n",
       "      <td>54.263133</td>\n",
       "      <td>64.700127</td>\n",
       "    </tr>\n",
       "    <tr>\n",
       "      <th>25%</th>\n",
       "      <td>63.505620</td>\n",
       "      <td>135.818051</td>\n",
       "    </tr>\n",
       "    <tr>\n",
       "      <th>50%</th>\n",
       "      <td>66.318070</td>\n",
       "      <td>161.212928</td>\n",
       "    </tr>\n",
       "    <tr>\n",
       "      <th>75%</th>\n",
       "      <td>69.174262</td>\n",
       "      <td>187.169525</td>\n",
       "    </tr>\n",
       "    <tr>\n",
       "      <th>max</th>\n",
       "      <td>78.998742</td>\n",
       "      <td>269.989699</td>\n",
       "    </tr>\n",
       "  </tbody>\n",
       "</table>\n",
       "</div>"
      ],
      "text/plain": [
       "             Height        Weight\n",
       "count  10000.000000  10000.000000\n",
       "mean      66.367560    161.440357\n",
       "std        3.847528     32.108439\n",
       "min       54.263133     64.700127\n",
       "25%       63.505620    135.818051\n",
       "50%       66.318070    161.212928\n",
       "75%       69.174262    187.169525\n",
       "max       78.998742    269.989699"
      ]
     },
     "execution_count": 5,
     "metadata": {},
     "output_type": "execute_result"
    }
   ],
   "source": [
    "data.describe()"
   ]
  },
  {
   "cell_type": "code",
   "execution_count": 6,
   "id": "7a5e4082",
   "metadata": {
    "execution": {
     "iopub.execute_input": "2024-05-24T14:58:23.673913Z",
     "iopub.status.busy": "2024-05-24T14:58:23.673496Z",
     "iopub.status.idle": "2024-05-24T14:58:23.679369Z",
     "shell.execute_reply": "2024-05-24T14:58:23.678363Z"
    },
    "papermill": {
     "duration": 0.015731,
     "end_time": "2024-05-24T14:58:23.681461",
     "exception": false,
     "start_time": "2024-05-24T14:58:23.665730",
     "status": "completed"
    },
    "tags": []
   },
   "outputs": [],
   "source": [
    "import matplotlib.pyplot as plt\n",
    "%matplotlib inline"
   ]
  },
  {
   "cell_type": "code",
   "execution_count": 7,
   "id": "e4c7c2ac",
   "metadata": {
    "execution": {
     "iopub.execute_input": "2024-05-24T14:58:23.695224Z",
     "iopub.status.busy": "2024-05-24T14:58:23.694846Z",
     "iopub.status.idle": "2024-05-24T14:58:23.888698Z",
     "shell.execute_reply": "2024-05-24T14:58:23.887694Z"
    },
    "papermill": {
     "duration": 0.203373,
     "end_time": "2024-05-24T14:58:23.891101",
     "exception": false,
     "start_time": "2024-05-24T14:58:23.687728",
     "status": "completed"
    },
    "tags": []
   },
   "outputs": [
    {
     "data": {
      "image/png": "[encoded data removed]",
      "text/plain": [
       "<Figure size 640x480 with 1 Axes>"
      ]
     },
     "metadata": {},
     "output_type": "display_data"
    }
   ],
   "source": [
    "plt.hist(data.Height,bins=10,rwidth=0.8,edgecolor='black')\n",
    "plt.xlabel(\"Height\")\n",
    "plt.ylabel(\"count\")\n",
    "plt.show()"
   ]
  },
  {
   "cell_type": "code",
   "execution_count": 8,
   "id": "9af406e3",
   "metadata": {
    "execution": {
     "iopub.execute_input": "2024-05-24T14:58:23.906036Z",
     "iopub.status.busy": "2024-05-24T14:58:23.905343Z",
     "iopub.status.idle": "2024-05-24T14:58:24.088589Z",
     "shell.execute_reply": "2024-05-24T14:58:24.087505Z"
    },
    "papermill": {
     "duration": 0.193132,
     "end_time": "2024-05-24T14:58:24.090786",
     "exception": false,
     "start_time": "2024-05-24T14:58:23.897654",
     "status": "completed"
    },
    "tags": []
   },
   "outputs": [
    {
     "data": {
      "image/png": "[encoded data removed]",
      "text/plain": [
       "<Figure size 640x480 with 1 Axes>"
      ]
     },
     "metadata": {},
     "output_type": "display_data"
    }
   ],
   "source": [
    "plt.hist(data.Weight,bins=10,rwidth=0.8,edgecolor='black')\n",
    "plt.xlabel(\"Weight\")\n",
    "plt.ylabel(\"Count\")\n",
    "\n",
    "plt.show()"
   ]
  },
  {
   "cell_type": "code",
   "execution_count": 9,
   "id": "8bf6335a",
   "metadata": {
    "execution": {
     "iopub.execute_input": "2024-05-24T14:58:24.106535Z",
     "iopub.status.busy": "2024-05-24T14:58:24.105472Z",
     "iopub.status.idle": "2024-05-24T14:58:24.114247Z",
     "shell.execute_reply": "2024-05-24T14:58:24.113249Z"
    },
    "papermill": {
     "duration": 0.018757,
     "end_time": "2024-05-24T14:58:24.116305",
     "exception": false,
     "start_time": "2024-05-24T14:58:24.097548",
     "status": "completed"
    },
    "tags": []
   },
   "outputs": [
    {
     "data": {
      "text/plain": [
       "(63.505620481218955, 69.1742617268347)"
      ]
     },
     "execution_count": 9,
     "metadata": {},
     "output_type": "execute_result"
    }
   ],
   "source": [
    "h_q1,h_q3=data.Height.quantile([0.25,0.75])\n",
    "h_q1,h_q3"
   ]
  },
  {
   "cell_type": "markdown",
   "id": "17e03064",
   "metadata": {
    "papermill": {
     "duration": 0.006545,
     "end_time": "2024-05-24T14:58:24.130640",
     "exception": false,
     "start_time": "2024-05-24T14:58:24.124095",
     "status": "completed"
    },
    "tags": []
   },
   "source": [
    "# DETECT OUTLIERS BASED ON HEIGHT"
   ]
  },
  {
   "cell_type": "code",
   "execution_count": 10,
   "id": "66cd27f5",
   "metadata": {
    "execution": {
     "iopub.execute_input": "2024-05-24T14:58:24.146453Z",
     "iopub.status.busy": "2024-05-24T14:58:24.145535Z",
     "iopub.status.idle": "2024-05-24T14:58:24.152083Z",
     "shell.execute_reply": "2024-05-24T14:58:24.151047Z"
    },
    "papermill": {
     "duration": 0.01682,
     "end_time": "2024-05-24T14:58:24.154269",
     "exception": false,
     "start_time": "2024-05-24T14:58:24.137449",
     "status": "completed"
    },
    "tags": []
   },
   "outputs": [
    {
     "data": {
      "text/plain": [
       "5.668641245615746"
      ]
     },
     "execution_count": 10,
     "metadata": {},
     "output_type": "execute_result"
    }
   ],
   "source": [
    "height_IQR=(h_q3-h_q1)\n",
    "height_IQR"
   ]
  },
  {
   "cell_type": "code",
   "execution_count": 11,
   "id": "57f45ce4",
   "metadata": {
    "execution": {
     "iopub.execute_input": "2024-05-24T14:58:24.170524Z",
     "iopub.status.busy": "2024-05-24T14:58:24.170095Z",
     "iopub.status.idle": "2024-05-24T14:58:24.177687Z",
     "shell.execute_reply": "2024-05-24T14:58:24.176479Z"
    },
    "papermill": {
     "duration": 0.018305,
     "end_time": "2024-05-24T14:58:24.180026",
     "exception": false,
     "start_time": "2024-05-24T14:58:24.161721",
     "status": "completed"
    },
    "tags": []
   },
   "outputs": [
    {
     "data": {
      "text/plain": [
       "(77.67722359525831, 55.00265861279534)"
      ]
     },
     "execution_count": 11,
     "metadata": {},
     "output_type": "execute_result"
    }
   ],
   "source": [
    "lowerl_height=h_q1-1.5*height_IQR\n",
    "upperl_height=h_q3+1.5*height_IQR\n",
    "upperl_height,lowerl_height"
   ]
  },
  {
   "cell_type": "code",
   "execution_count": 12,
   "id": "68c0f2e4",
   "metadata": {
    "execution": {
     "iopub.execute_input": "2024-05-24T14:58:24.196310Z",
     "iopub.status.busy": "2024-05-24T14:58:24.195387Z",
     "iopub.status.idle": "2024-05-24T14:58:24.211416Z",
     "shell.execute_reply": "2024-05-24T14:58:24.210393Z"
    },
    "papermill": {
     "duration": 0.026893,
     "end_time": "2024-05-24T14:58:24.214054",
     "exception": false,
     "start_time": "2024-05-24T14:58:24.187161",
     "status": "completed"
    },
    "tags": []
   },
   "outputs": [
    {
     "data": {
      "text/html": [
       "<div>\n",
       "<style scoped>\n",
       "    .dataframe tbody tr th:only-of-type {\n",
       "        vertical-align: middle;\n",
       "    }\n",
       "\n",
       "    .dataframe tbody tr th {\n",
       "        vertical-align: top;\n",
       "    }\n",
       "\n",
       "    .dataframe thead th {\n",
       "        text-align: right;\n",
       "    }\n",
       "</style>\n",
       "<table border=\"1\" class=\"dataframe\">\n",
       "  <thead>\n",
       "    <tr style=\"text-align: right;\">\n",
       "      <th></th>\n",
       "      <th>Gender</th>\n",
       "      <th>Height</th>\n",
       "      <th>Weight</th>\n",
       "    </tr>\n",
       "  </thead>\n",
       "  <tbody>\n",
       "    <tr>\n",
       "      <th>994</th>\n",
       "      <td>Male</td>\n",
       "      <td>78.095867</td>\n",
       "      <td>255.690835</td>\n",
       "    </tr>\n",
       "    <tr>\n",
       "      <th>1317</th>\n",
       "      <td>Male</td>\n",
       "      <td>78.462053</td>\n",
       "      <td>227.342565</td>\n",
       "    </tr>\n",
       "    <tr>\n",
       "      <th>2014</th>\n",
       "      <td>Male</td>\n",
       "      <td>78.998742</td>\n",
       "      <td>269.989699</td>\n",
       "    </tr>\n",
       "    <tr>\n",
       "      <th>3285</th>\n",
       "      <td>Male</td>\n",
       "      <td>78.528210</td>\n",
       "      <td>253.889004</td>\n",
       "    </tr>\n",
       "    <tr>\n",
       "      <th>3757</th>\n",
       "      <td>Male</td>\n",
       "      <td>78.621374</td>\n",
       "      <td>245.733783</td>\n",
       "    </tr>\n",
       "    <tr>\n",
       "      <th>6624</th>\n",
       "      <td>Female</td>\n",
       "      <td>54.616858</td>\n",
       "      <td>71.393749</td>\n",
       "    </tr>\n",
       "    <tr>\n",
       "      <th>7294</th>\n",
       "      <td>Female</td>\n",
       "      <td>54.873728</td>\n",
       "      <td>78.606670</td>\n",
       "    </tr>\n",
       "    <tr>\n",
       "      <th>9285</th>\n",
       "      <td>Female</td>\n",
       "      <td>54.263133</td>\n",
       "      <td>64.700127</td>\n",
       "    </tr>\n",
       "  </tbody>\n",
       "</table>\n",
       "</div>"
      ],
      "text/plain": [
       "      Gender     Height      Weight\n",
       "994     Male  78.095867  255.690835\n",
       "1317    Male  78.462053  227.342565\n",
       "2014    Male  78.998742  269.989699\n",
       "3285    Male  78.528210  253.889004\n",
       "3757    Male  78.621374  245.733783\n",
       "6624  Female  54.616858   71.393749\n",
       "7294  Female  54.873728   78.606670\n",
       "9285  Female  54.263133   64.700127"
      ]
     },
     "execution_count": 12,
     "metadata": {},
     "output_type": "execute_result"
    }
   ],
   "source": [
    "data[(data.Height<lowerl_height)|(data.Height>upperl_height)]\n"
   ]
  },
  {
   "cell_type": "code",
   "execution_count": 13,
   "id": "25ce712d",
   "metadata": {
    "execution": {
     "iopub.execute_input": "2024-05-24T14:58:24.231243Z",
     "iopub.status.busy": "2024-05-24T14:58:24.230830Z",
     "iopub.status.idle": "2024-05-24T14:58:24.245199Z",
     "shell.execute_reply": "2024-05-24T14:58:24.244211Z"
    },
    "papermill": {
     "duration": 0.025352,
     "end_time": "2024-05-24T14:58:24.247500",
     "exception": false,
     "start_time": "2024-05-24T14:58:24.222148",
     "status": "completed"
    },
    "tags": []
   },
   "outputs": [
    {
     "data": {
      "text/html": [
       "<div>\n",
       "<style scoped>\n",
       "    .dataframe tbody tr th:only-of-type {\n",
       "        vertical-align: middle;\n",
       "    }\n",
       "\n",
       "    .dataframe tbody tr th {\n",
       "        vertical-align: top;\n",
       "    }\n",
       "\n",
       "    .dataframe thead th {\n",
       "        text-align: right;\n",
       "    }\n",
       "</style>\n",
       "<table border=\"1\" class=\"dataframe\">\n",
       "  <thead>\n",
       "    <tr style=\"text-align: right;\">\n",
       "      <th></th>\n",
       "      <th>Gender</th>\n",
       "      <th>Height</th>\n",
       "      <th>Weight</th>\n",
       "    </tr>\n",
       "  </thead>\n",
       "  <tbody>\n",
       "    <tr>\n",
       "      <th>0</th>\n",
       "      <td>Male</td>\n",
       "      <td>73.847017</td>\n",
       "      <td>241.893563</td>\n",
       "    </tr>\n",
       "    <tr>\n",
       "      <th>1</th>\n",
       "      <td>Male</td>\n",
       "      <td>68.781904</td>\n",
       "      <td>162.310473</td>\n",
       "    </tr>\n",
       "    <tr>\n",
       "      <th>2</th>\n",
       "      <td>Male</td>\n",
       "      <td>74.110105</td>\n",
       "      <td>212.740856</td>\n",
       "    </tr>\n",
       "    <tr>\n",
       "      <th>3</th>\n",
       "      <td>Male</td>\n",
       "      <td>71.730978</td>\n",
       "      <td>220.042470</td>\n",
       "    </tr>\n",
       "    <tr>\n",
       "      <th>4</th>\n",
       "      <td>Male</td>\n",
       "      <td>69.881796</td>\n",
       "      <td>206.349801</td>\n",
       "    </tr>\n",
       "    <tr>\n",
       "      <th>...</th>\n",
       "      <td>...</td>\n",
       "      <td>...</td>\n",
       "      <td>...</td>\n",
       "    </tr>\n",
       "    <tr>\n",
       "      <th>9995</th>\n",
       "      <td>Female</td>\n",
       "      <td>66.172652</td>\n",
       "      <td>136.777454</td>\n",
       "    </tr>\n",
       "    <tr>\n",
       "      <th>9996</th>\n",
       "      <td>Female</td>\n",
       "      <td>67.067155</td>\n",
       "      <td>170.867906</td>\n",
       "    </tr>\n",
       "    <tr>\n",
       "      <th>9997</th>\n",
       "      <td>Female</td>\n",
       "      <td>63.867992</td>\n",
       "      <td>128.475319</td>\n",
       "    </tr>\n",
       "    <tr>\n",
       "      <th>9998</th>\n",
       "      <td>Female</td>\n",
       "      <td>69.034243</td>\n",
       "      <td>163.852461</td>\n",
       "    </tr>\n",
       "    <tr>\n",
       "      <th>9999</th>\n",
       "      <td>Female</td>\n",
       "      <td>61.944246</td>\n",
       "      <td>113.649103</td>\n",
       "    </tr>\n",
       "  </tbody>\n",
       "</table>\n",
       "<p>9992 rows × 3 columns</p>\n",
       "</div>"
      ],
      "text/plain": [
       "      Gender     Height      Weight\n",
       "0       Male  73.847017  241.893563\n",
       "1       Male  68.781904  162.310473\n",
       "2       Male  74.110105  212.740856\n",
       "3       Male  71.730978  220.042470\n",
       "4       Male  69.881796  206.349801\n",
       "...      ...        ...         ...\n",
       "9995  Female  66.172652  136.777454\n",
       "9996  Female  67.067155  170.867906\n",
       "9997  Female  63.867992  128.475319\n",
       "9998  Female  69.034243  163.852461\n",
       "9999  Female  61.944246  113.649103\n",
       "\n",
       "[9992 rows x 3 columns]"
      ]
     },
     "execution_count": 13,
     "metadata": {},
     "output_type": "execute_result"
    }
   ],
   "source": [
    "data_he=data[(data.Height>lowerl_height) & (data.Height<upperl_height)]\n",
    "data_he"
   ]
  },
  {
   "cell_type": "markdown",
   "id": "2b3b4b76",
   "metadata": {
    "papermill": {
     "duration": 0.007296,
     "end_time": "2024-05-24T14:58:24.262397",
     "exception": false,
     "start_time": "2024-05-24T14:58:24.255101",
     "status": "completed"
    },
    "tags": []
   },
   "source": [
    "# finding outlier based on weight"
   ]
  },
  {
   "cell_type": "code",
   "execution_count": 14,
   "id": "c3bd2df6",
   "metadata": {
    "execution": {
     "iopub.execute_input": "2024-05-24T14:58:24.279327Z",
     "iopub.status.busy": "2024-05-24T14:58:24.278597Z",
     "iopub.status.idle": "2024-05-24T14:58:24.286524Z",
     "shell.execute_reply": "2024-05-24T14:58:24.285562Z"
    },
    "papermill": {
     "duration": 0.018746,
     "end_time": "2024-05-24T14:58:24.288665",
     "exception": false,
     "start_time": "2024-05-24T14:58:24.269919",
     "status": "completed"
    },
    "tags": []
   },
   "outputs": [
    {
     "data": {
      "text/plain": [
       "(135.8180513055015, 187.16952486868348)"
      ]
     },
     "execution_count": 14,
     "metadata": {},
     "output_type": "execute_result"
    }
   ],
   "source": [
    "w_q1,w_q3=data.Weight.quantile([0.25,0.75])\n",
    "w_q1,w_q3"
   ]
  },
  {
   "cell_type": "code",
   "execution_count": 15,
   "id": "9f063199",
   "metadata": {
    "execution": {
     "iopub.execute_input": "2024-05-24T14:58:24.305219Z",
     "iopub.status.busy": "2024-05-24T14:58:24.304819Z",
     "iopub.status.idle": "2024-05-24T14:58:24.311255Z",
     "shell.execute_reply": "2024-05-24T14:58:24.310187Z"
    },
    "papermill": {
     "duration": 0.017193,
     "end_time": "2024-05-24T14:58:24.313364",
     "exception": false,
     "start_time": "2024-05-24T14:58:24.296171",
     "status": "completed"
    },
    "tags": []
   },
   "outputs": [
    {
     "data": {
      "text/plain": [
       "51.35147356318197"
      ]
     },
     "execution_count": 15,
     "metadata": {},
     "output_type": "execute_result"
    }
   ],
   "source": [
    "weight_IQR=(w_q3-w_q1)\n",
    "weight_IQR"
   ]
  },
  {
   "cell_type": "code",
   "execution_count": 16,
   "id": "5418dcce",
   "metadata": {
    "execution": {
     "iopub.execute_input": "2024-05-24T14:58:24.330763Z",
     "iopub.status.busy": "2024-05-24T14:58:24.329882Z",
     "iopub.status.idle": "2024-05-24T14:58:24.336395Z",
     "shell.execute_reply": "2024-05-24T14:58:24.335422Z"
    },
    "papermill": {
     "duration": 0.017243,
     "end_time": "2024-05-24T14:58:24.338397",
     "exception": false,
     "start_time": "2024-05-24T14:58:24.321154",
     "status": "completed"
    },
    "tags": []
   },
   "outputs": [
    {
     "data": {
      "text/plain": [
       "(264.19673521345646, 58.79084096072856)"
      ]
     },
     "execution_count": 16,
     "metadata": {},
     "output_type": "execute_result"
    }
   ],
   "source": [
    "lowerl_weight=w_q1-1.5*weight_IQR\n",
    "upperl_weight=w_q3+1.5*weight_IQR\n",
    "upperl_weight,lowerl_weight"
   ]
  },
  {
   "cell_type": "code",
   "execution_count": 17,
   "id": "0a1f1338",
   "metadata": {
    "execution": {
     "iopub.execute_input": "2024-05-24T14:58:24.355136Z",
     "iopub.status.busy": "2024-05-24T14:58:24.354765Z",
     "iopub.status.idle": "2024-05-24T14:58:24.360840Z",
     "shell.execute_reply": "2024-05-24T14:58:24.360001Z"
    },
    "papermill": {
     "duration": 0.016857,
     "end_time": "2024-05-24T14:58:24.362917",
     "exception": false,
     "start_time": "2024-05-24T14:58:24.346060",
     "status": "completed"
    },
    "tags": []
   },
   "outputs": [],
   "source": [
    "d3=data[(data.Weight<lowerl_weight)|(data.Weight>upperl_weight)]"
   ]
  },
  {
   "cell_type": "code",
   "execution_count": 18,
   "id": "b5c3f525",
   "metadata": {
    "execution": {
     "iopub.execute_input": "2024-05-24T14:58:24.379984Z",
     "iopub.status.busy": "2024-05-24T14:58:24.379605Z",
     "iopub.status.idle": "2024-05-24T14:58:24.385933Z",
     "shell.execute_reply": "2024-05-24T14:58:24.385019Z"
    },
    "papermill": {
     "duration": 0.01725,
     "end_time": "2024-05-24T14:58:24.387991",
     "exception": false,
     "start_time": "2024-05-24T14:58:24.370741",
     "status": "completed"
    },
    "tags": []
   },
   "outputs": [],
   "source": [
    "d4=data[(data.Weight>lowerl_weight)&(data.Weight<upperl_weight)]"
   ]
  },
  {
   "cell_type": "code",
   "execution_count": 19,
   "id": "77412ba3",
   "metadata": {
    "execution": {
     "iopub.execute_input": "2024-05-24T14:58:24.405782Z",
     "iopub.status.busy": "2024-05-24T14:58:24.404898Z",
     "iopub.status.idle": "2024-05-24T14:58:24.410490Z",
     "shell.execute_reply": "2024-05-24T14:58:24.409416Z"
    },
    "papermill": {
     "duration": 0.016982,
     "end_time": "2024-05-24T14:58:24.412718",
     "exception": false,
     "start_time": "2024-05-24T14:58:24.395736",
     "status": "completed"
    },
    "tags": []
   },
   "outputs": [],
   "source": [
    "no_outlier=pd.concat([d3,d4])"
   ]
  },
  {
   "cell_type": "code",
   "execution_count": 20,
   "id": "90461920",
   "metadata": {
    "execution": {
     "iopub.execute_input": "2024-05-24T14:58:24.430288Z",
     "iopub.status.busy": "2024-05-24T14:58:24.429889Z",
     "iopub.status.idle": "2024-05-24T14:58:24.443271Z",
     "shell.execute_reply": "2024-05-24T14:58:24.442246Z"
    },
    "papermill": {
     "duration": 0.024822,
     "end_time": "2024-05-24T14:58:24.445669",
     "exception": false,
     "start_time": "2024-05-24T14:58:24.420847",
     "status": "completed"
    },
    "tags": []
   },
   "outputs": [
    {
     "data": {
      "text/html": [
       "<div>\n",
       "<style scoped>\n",
       "    .dataframe tbody tr th:only-of-type {\n",
       "        vertical-align: middle;\n",
       "    }\n",
       "\n",
       "    .dataframe tbody tr th {\n",
       "        vertical-align: top;\n",
       "    }\n",
       "\n",
       "    .dataframe thead th {\n",
       "        text-align: right;\n",
       "    }\n",
       "</style>\n",
       "<table border=\"1\" class=\"dataframe\">\n",
       "  <thead>\n",
       "    <tr style=\"text-align: right;\">\n",
       "      <th></th>\n",
       "      <th>Gender</th>\n",
       "      <th>Height</th>\n",
       "      <th>Weight</th>\n",
       "    </tr>\n",
       "  </thead>\n",
       "  <tbody>\n",
       "    <tr>\n",
       "      <th>2014</th>\n",
       "      <td>Male</td>\n",
       "      <td>78.998742</td>\n",
       "      <td>269.989699</td>\n",
       "    </tr>\n",
       "    <tr>\n",
       "      <th>0</th>\n",
       "      <td>Male</td>\n",
       "      <td>73.847017</td>\n",
       "      <td>241.893563</td>\n",
       "    </tr>\n",
       "    <tr>\n",
       "      <th>1</th>\n",
       "      <td>Male</td>\n",
       "      <td>68.781904</td>\n",
       "      <td>162.310473</td>\n",
       "    </tr>\n",
       "    <tr>\n",
       "      <th>2</th>\n",
       "      <td>Male</td>\n",
       "      <td>74.110105</td>\n",
       "      <td>212.740856</td>\n",
       "    </tr>\n",
       "    <tr>\n",
       "      <th>3</th>\n",
       "      <td>Male</td>\n",
       "      <td>71.730978</td>\n",
       "      <td>220.042470</td>\n",
       "    </tr>\n",
       "    <tr>\n",
       "      <th>...</th>\n",
       "      <td>...</td>\n",
       "      <td>...</td>\n",
       "      <td>...</td>\n",
       "    </tr>\n",
       "    <tr>\n",
       "      <th>9995</th>\n",
       "      <td>Female</td>\n",
       "      <td>66.172652</td>\n",
       "      <td>136.777454</td>\n",
       "    </tr>\n",
       "    <tr>\n",
       "      <th>9996</th>\n",
       "      <td>Female</td>\n",
       "      <td>67.067155</td>\n",
       "      <td>170.867906</td>\n",
       "    </tr>\n",
       "    <tr>\n",
       "      <th>9997</th>\n",
       "      <td>Female</td>\n",
       "      <td>63.867992</td>\n",
       "      <td>128.475319</td>\n",
       "    </tr>\n",
       "    <tr>\n",
       "      <th>9998</th>\n",
       "      <td>Female</td>\n",
       "      <td>69.034243</td>\n",
       "      <td>163.852461</td>\n",
       "    </tr>\n",
       "    <tr>\n",
       "      <th>9999</th>\n",
       "      <td>Female</td>\n",
       "      <td>61.944246</td>\n",
       "      <td>113.649103</td>\n",
       "    </tr>\n",
       "  </tbody>\n",
       "</table>\n",
       "<p>10000 rows × 3 columns</p>\n",
       "</div>"
      ],
      "text/plain": [
       "      Gender     Height      Weight\n",
       "2014    Male  78.998742  269.989699\n",
       "0       Male  73.847017  241.893563\n",
       "1       Male  68.781904  162.310473\n",
       "2       Male  74.110105  212.740856\n",
       "3       Male  71.730978  220.042470\n",
       "...      ...        ...         ...\n",
       "9995  Female  66.172652  136.777454\n",
       "9996  Female  67.067155  170.867906\n",
       "9997  Female  63.867992  128.475319\n",
       "9998  Female  69.034243  163.852461\n",
       "9999  Female  61.944246  113.649103\n",
       "\n",
       "[10000 rows x 3 columns]"
      ]
     },
     "execution_count": 20,
     "metadata": {},
     "output_type": "execute_result"
    }
   ],
   "source": [
    "no_outlier"
   ]
  },
  {
   "cell_type": "code",
   "execution_count": null,
   "id": "046ce501",
   "metadata": {
    "papermill": {
     "duration": 0.007854,
     "end_time": "2024-05-24T14:58:24.461629",
     "exception": false,
     "start_time": "2024-05-24T14:58:24.453775",
     "status": "completed"
    },
    "tags": []
   },
   "outputs": [],
   "source": []
  },
  {
   "cell_type": "code",
   "execution_count": null,
   "id": "e1ea7f77",
   "metadata": {
    "papermill": {
     "duration": 0.007665,
     "end_time": "2024-05-24T14:58:24.477408",
     "exception": false,
     "start_time": "2024-05-24T14:58:24.469743",
     "status": "completed"
    },
    "tags": []
   },
   "outputs": [],
   "source": []
  }
 ],
 "metadata": {
  "kaggle": {
   "accelerator": "none",
   "dataSources": [
    {
     "datasetId": 26073,
     "sourceId": 33239,
     "sourceType": "datasetVersion"
    }
   ],
   "dockerImageVersionId": 30698,
   "isGpuEnabled": false,
   "isInternetEnabled": true,
   "language": "python",
   "sourceType": "notebook"
  },
  "kernelspec": {
   "display_name": "Python 3",
   "language": "python",
   "name": "python3"
  },
  "language_info": {
   "codemirror_mode": {
    "name": "ipython",
    "version": 3
   },
   "file_extension": ".py",
   "mimetype": "text/x-python",
   "name": "python",
   "nbconvert_exporter": "python",
   "pygments_lexer": "ipython3",
   "version": "3.10.13"
  },
  "papermill": {
   "default_parameters": {},
   "duration": 4.719334,
   "end_time": "2024-05-24T14:58:24.905158",
   "environment_variables": {},
   "exception": null,
   "input_path": "__notebook__.ipynb",
   "output_path": "__notebook__.ipynb",
   "parameters": {},
   "start_time": "2024-05-24T14:58:20.185824",
   "version": "2.5.0"
  }
 },
 "nbformat": 4,
 "nbformat_minor": 5
}
